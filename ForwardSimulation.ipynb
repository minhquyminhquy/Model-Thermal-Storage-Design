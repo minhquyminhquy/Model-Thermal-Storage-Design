{
 "cells": [
  {
   "cell_type": "markdown",
   "metadata": {},
   "source": [
    "# Solving the Reaction-Convection-Diffusion Equation for the Charge Phase of Thermal Energy Storage Using Physics-Informed Neural Networks\n",
    "\n",
    "In this notebook, I will implement Physics-Informed Neural Networks (PINNs) in PyTorch to solve the Reaction-Convection-Diffusion Equation for the Charge Phase of Thermal Energy Storage. \n",
    "\n",
    "## Acknowledgement\n",
    "\n",
    "This is a capstone project of the course Deep Learning in Scientific Computing 2023 from ETH Zurich. I was able to access the description related to the capstone project through this Github repository from [Fabian Jaeger](https://github.com/fabianjaeger1/DLSC/tree/main). Thanks Fabian for making the project description public."
   ]
  },
  {
   "cell_type": "markdown",
   "metadata": {},
   "source": [
    "## Problem Formulation\n",
    "\n",
    "Thermal energy storage is the device used in solar power energy to store the thermal energy absord from the Sun in the charging phase and release the energy during the discharging phase. The thermal energy is stored by heat flow between solid and fluid phase. In the charging phase, the hot fluid gets in from one end of the storage and heats up the solid. In the discharging phase, the cold fluid flow from the opposite end and absorb the heat, making the system cool down. Between these phases, idle phase take places - no fluid enter the storage.\n",
    "\n",
    "A cycle contains these 4 phase: (1) Charging (2) Idle between charging and discharging (3) Discharging (4) Idle between discharging and charging. This repeats until the thermal storage reaches a periodic or stationary  regime. [1]\n",
    "\n",
    "$\n",
    "\\[\n",
    "\\frac{\\partial u(x,t)}{\\partial t} = \\alpha \\frac{\\partial^2 u(x,t)}{\\partial x^2}\n",
    "\\] $\n",
    "\n",
    "where:\n",
    "- \\( u(x,t) \\) represents the temperature at position \\( x \\) and time \\( t \\)\n",
    "- \\( \\alpha \\) is the thermal diffusivity constant\n",
    "\n",
    "### Boundary and Initial Conditions:\n",
    "- Boundary conditions: \\( u(0,t) = u(L,t) = 0 \\)\n",
    "- Initial condition: \\( u(x,0) = f(x) \\)\n",
    "\n",
    "For this notebook, we will consider a domain \\( x \\in [0, L] \\) and \\( t \\in [0, T] \\).\n"
   ]
  },
  {
   "cell_type": "markdown",
   "metadata": {},
   "source": [
    "## Physics-Informed Neural Network (PINN)\n",
    "\n",
    "A Physics-Informed Neural Network (PINN) integrates the governing partial differential equation (PDE) into the loss function during training. This allows the neural network to directly learn the solution that satisfies the PDE along with the boundary and initial conditions.\n",
    "\n",
    "### PINN Setup:\n",
    "1. **Input Variables**: \\( x \\) (position) and \\( t \\) (time)\n",
    "2. **Output**: \\( u(x,t) \\) (temperature)\n",
    "3. **Loss Function**: Includes:\n",
    "    - Residual of the PDE\n",
    "    - Boundary condition terms\n",
    "    - Initial condition term\n"
   ]
  },
  {
   "cell_type": "markdown",
   "metadata": {},
   "source": [
    "## Neural Network Setup\n",
    "\n",
    "We will define a feedforward neural network with the following architecture:\n",
    "- Number of hidden layers\n",
    "- Number of neurons per layer\n",
    "- Activation functions (e.g., ReLU)\n",
    "\n",
    "The neural network will be trained using the collocation points sampled from the domain for both \\( x \\) and \\( t \\).\n"
   ]
  },
  {
   "cell_type": "markdown",
   "metadata": {},
   "source": []
  }
 ],
 "metadata": {
  "language_info": {
   "name": "python"
  }
 },
 "nbformat": 4,
 "nbformat_minor": 2
}
